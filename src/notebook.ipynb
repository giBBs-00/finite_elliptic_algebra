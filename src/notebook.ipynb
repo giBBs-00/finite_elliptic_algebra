{
 "cells": [
  {
   "cell_type": "code",
   "execution_count": 18,
   "metadata": {},
   "outputs": [],
   "source": [
    "# %pip install --quiet pandas"
   ]
  },
  {
   "cell_type": "code",
   "execution_count": 19,
   "metadata": {},
   "outputs": [],
   "source": [
    "import multiprocessing as mp\n",
    "import time"
   ]
  },
  {
   "cell_type": "code",
   "execution_count": 20,
   "metadata": {},
   "outputs": [],
   "source": [
    "import pandas as pd\n",
    "from gf import GF, EllipticCurve\n",
    "import statistics\n",
    "\n",
    "# input = [\n",
    "#     (5, [1, 2]),  # 5^1\n",
    "#     # (5, [1, 1, 2]),  # 5^2\n",
    "#     # (5, [1, 2, 2, 2]),  # 5^3\n",
    "#     # # (5, [1, 0, 1, 3, 3]),  # 5^4\n",
    "#     # (7, [1, 2]),  # 7^1\n",
    "#     # (7, [1, 3, 5]),  # 7^2\n",
    "#     # (7, [1, 3, 2, 2]),  # 7^3\n",
    "#     # (11, [1, 3]), # 11^1\n",
    "#     # (11, [1, 7, 7]), # 11^2\n",
    "# ]\n",
    "# output = []\n",
    "\n",
    "# def worker(input):\n",
    "#     p, irred = input\n",
    "#     gf = GF(p, irred)\n",
    "    \n",
    "#     if not gf.is_primitive:\n",
    "#         return None\n",
    "\n",
    "#     no_curves = []\n",
    "#     for x in gf.elements:\n",
    "#         P = EllipticCurve.FreeECPoint(x, x)\n",
    "#         curves = P.candidate_curves()\n",
    "#         no_curves.append(len(curves))\n",
    "\n",
    "#     return {\n",
    "#         \"GF()\": f\"{p}^{len(irred)-1}\",\n",
    "#         \"0 soln\": no_curves.count(p**(len(irred)-1)),\n",
    "#         \"1 soln\": no_curves.count(p**(len(irred)-1) - 1),\n",
    "#         \"2 soln\": no_curves.count(p**(len(irred)-1) - 2),\n",
    "#         \"3 soln\": no_curves.count(p**(len(irred)-1) - 3),\n",
    "#         \"total\": 0*no_curves.count(p**(len(irred)-1)) + 1*no_curves.count(p**(len(irred)-1) - 1) + 2*no_curves.count(p**(len(irred)-1) - 2) + 3*no_curves.count(p**(len(irred)-1) - 3),\n",
    "#         \"mean\": round(statistics.mean(no_curves), 10)\n",
    "#     }\n",
    "\n",
    "# with mp.Pool(processes=mp.cpu_count()) as pool:\n",
    "#     results = pool.map(worker, input)\n",
    "\n",
    "# df = pd.DataFrame(results)\n",
    "# df.to_csv(\"output.csv\", index=False)\n",
    "# df"
   ]
  },
  {
   "cell_type": "code",
   "execution_count": null,
   "metadata": {},
   "outputs": [
    {
     "ename": "ValueError",
     "evalue": "6 is not in list",
     "output_type": "error",
     "traceback": [
      "\u001b[31m---------------------------------------------------------------------------\u001b[39m",
      "\u001b[31mValueError\u001b[39m                                Traceback (most recent call last)",
      "\u001b[36mCell\u001b[39m\u001b[36m \u001b[39m\u001b[32mIn[21]\u001b[39m\u001b[32m, line 15\u001b[39m\n\u001b[32m     13\u001b[39m \u001b[38;5;28;01mfor\u001b[39;00m y \u001b[38;5;129;01min\u001b[39;00m elements:\n\u001b[32m     14\u001b[39m     P = EllipticCurve.FreeECPoint(x, y)\n\u001b[32m---> \u001b[39m\u001b[32m15\u001b[39m     curves = \u001b[43mP\u001b[49m\u001b[43m.\u001b[49m\u001b[43msingular_curves\u001b[49m\u001b[43m(\u001b[49m\u001b[43m)\u001b[49m\n\u001b[32m     16\u001b[39m     no_curves.append(\u001b[38;5;28mlen\u001b[39m(curves))\n\u001b[32m     17\u001b[39m total_solns = no_curves.count(\n\u001b[32m     18\u001b[39m     \u001b[32m1\u001b[39m) + \u001b[32m2\u001b[39m * no_curves.count(\u001b[32m2\u001b[39m) + \u001b[32m3\u001b[39m * no_curves.count(\u001b[32m3\u001b[39m)\n",
      "\u001b[36mFile \u001b[39m\u001b[32m/workspaces/galois/src/gf.py:620\u001b[39m, in \u001b[36mEllipticCurve.FreeECPoint.singular_curves\u001b[39m\u001b[34m(self)\u001b[39m\n\u001b[32m    618\u001b[39m     \u001b[38;5;28;01mfor\u001b[39;00m a \u001b[38;5;129;01min\u001b[39;00m F.elements:\n\u001b[32m    619\u001b[39m         b = \u001b[38;5;28mself\u001b[39m.y**\u001b[32m2\u001b[39m - \u001b[38;5;28mself\u001b[39m.x**\u001b[32m3\u001b[39m - a*\u001b[38;5;28mself\u001b[39m.x\n\u001b[32m--> \u001b[39m\u001b[32m620\u001b[39m         \u001b[38;5;28;01mif\u001b[39;00m \u001b[38;5;28mself\u001b[39m.x.gf([\u001b[32m4\u001b[39m])*a**\u001b[32m3\u001b[39m + \u001b[38;5;28;43mself\u001b[39;49m\u001b[43m.\u001b[49m\u001b[43mx\u001b[49m\u001b[43m.\u001b[49m\u001b[43mgf\u001b[49m\u001b[43m(\u001b[49m\u001b[43m[\u001b[49m\u001b[32;43m27\u001b[39;49m\u001b[43m]\u001b[49m\u001b[43m)\u001b[49m\u001b[43m*\u001b[49m\u001b[43mb\u001b[49m\u001b[43m*\u001b[49m\u001b[43m*\u001b[49m\u001b[32;43m2\u001b[39;49m == \u001b[38;5;28mself\u001b[39m.x.gf([\u001b[32m0\u001b[39m]):\n\u001b[32m    621\u001b[39m             curves.append([a, b])\n\u001b[32m    623\u001b[39m \u001b[38;5;28;01mreturn\u001b[39;00m curves\n",
      "\u001b[36mFile \u001b[39m\u001b[32m/workspaces/galois/src/gf.py:205\u001b[39m, in \u001b[36mGF.GFe.__mul__\u001b[39m\u001b[34m(self, other)\u001b[39m\n\u001b[32m    203\u001b[39m alpha: \u001b[38;5;28mlist\u001b[39m = \u001b[38;5;28mself\u001b[39m.gf.alpha_rep\n\u001b[32m    204\u001b[39m elements: \u001b[38;5;28mlist\u001b[39m = \u001b[38;5;28mself\u001b[39m.gf.elements\n\u001b[32m--> \u001b[39m\u001b[32m205\u001b[39m e1 = \u001b[43melements\u001b[49m\u001b[43m.\u001b[49m\u001b[43mindex\u001b[49m\u001b[43m(\u001b[49m\u001b[38;5;28;43mself\u001b[39;49m\u001b[43m)\u001b[49m\n\u001b[32m    206\u001b[39m e2 = elements.index(other)\n\u001b[32m    207\u001b[39m a = alpha[e1 - \u001b[32m1\u001b[39m] * alpha[e2 - \u001b[32m1\u001b[39m]\n",
      "\u001b[31mValueError\u001b[39m: 6 is not in list"
     ]
    },
    {
     "ename": "",
     "evalue": "",
     "output_type": "error",
     "traceback": [
      "\u001b[1;31mThe Kernel crashed while executing code in the current cell or a previous cell. \n",
      "\u001b[1;31mPlease review the code in the cell(s) to identify a possible cause of the failure. \n",
      "\u001b[1;31mClick <a href='https://aka.ms/vscodeJupyterKernelCrash'>here</a> for more info. \n",
      "\u001b[1;31mView Jupyter <a href='command:jupyter.viewOutput'>log</a> for further details."
     ]
    }
   ],
   "source": [
    "\n",
    "input = [(7, [1, 0, 3])]\n",
    "output = []\n",
    "\n",
    "for p, a in input:\n",
    "    gf = GF(p, a)\n",
    "    elements = gf.elements\n",
    "\n",
    "    if not gf.is_primitive:\n",
    "        break\n",
    "\n",
    "    for x in gf.elements:\n",
    "        no_curves = []\n",
    "        for y in elements:\n",
    "            P = EllipticCurve.FreeECPoint(x, y)\n",
    "            curves = P.singular_curves()\n",
    "            no_curves.append(len(curves))\n",
    "        total_solns = no_curves.count(\n",
    "            1) + 2 * no_curves.count(2) + 3 * no_curves.count(3)\n",
    "        no_curves.append(total_solns)\n",
    "        row = [str(x)] + no_curves\n",
    "        output.append(row)\n",
    "\n",
    "columns = [f\"GF({p}^{len(a) - 1})\"]+[str(x) for x in elements] + [\"Total\"]\n",
    "df = pd.DataFrame(output, columns=columns)\n",
    "\n",
    "\n",
    "totals = df.iloc[:, 1:].sum(numeric_only=True)\n",
    "total_row = [\"Total\"] + totals.tolist()\n",
    "df.loc[len(df)] = total_row\n",
    "\n",
    "\n",
    "df.to_csv(\"output.csv\", index=False)\n",
    "\n",
    "\n",
    "df"
   ]
  },
  {
   "cell_type": "code",
   "execution_count": null,
   "metadata": {},
   "outputs": [],
   "source": [
    "from gf import AG\n",
    "from typing import List, Tuple, Union\n",
    "from functools import cached_property\n",
    "import itertools\n",
    "from itertools import zip_longest\n",
    "import math\n",
    "from math import isqrt\n",
    "import statistics\n",
    "import pandas as pd\n",
    "from pandas import DataFrame\n",
    "import cmath\n",
    "from cmath import tau\n",
    "import matplotlib.pyplot as plt\n",
    "import numpy as np\n",
    "%matplotlib inline\n",
    "\n",
    "group = AG(2, 3).generate()\n",
    "characters = AG(2, 3).characters()\n",
    "\n",
    "\n",
    "def plot_signature(g, title=\"Character Signature\"):\n",
    "    fig, ax = plt.subplots(figsize=(5,5))\n",
    "    ax.set_aspect('equal')\n",
    "    ax.set_title(title)\n",
    "\n",
    "    # Draw unit circle\n",
    "    circle = plt.Circle((0, 0), 1, fill=False, color='gray', linestyle='--')\n",
    "    ax.add_artist(circle)\n",
    "\n",
    "    # Plot each complex value as an arrow\n",
    "    vals = g.signature\n",
    "    for z in vals:\n",
    "        ax.arrow(0, 0, z.real, z.imag, head_width=0.05, color='blue', length_includes_head=True)\n",
    "\n",
    "    # Aesthetic fixes\n",
    "    ax.set_xlim(-1.1, 1.1)\n",
    "    ax.set_ylim(-1.1, 1.1)\n",
    "    ax.axhline(0, color='black', linewidth=0.5)\n",
    "    ax.axvline(0, color='black', linewidth=0.5)\n",
    "    plt.grid(True)\n",
    "    plt.show()\n",
    "\n",
    "for g in group:\n",
    "        plot_signature(g, f\"Character Signature of {g}\")"
   ]
  }
 ],
 "metadata": {
  "kernelspec": {
   "display_name": "Python 3",
   "language": "python",
   "name": "python3"
  },
  "language_info": {
   "codemirror_mode": {
    "name": "ipython",
    "version": 3
   },
   "file_extension": ".py",
   "mimetype": "text/x-python",
   "name": "python",
   "nbconvert_exporter": "python",
   "pygments_lexer": "ipython3",
   "version": "3.12.10"
  }
 },
 "nbformat": 4,
 "nbformat_minor": 2
}
